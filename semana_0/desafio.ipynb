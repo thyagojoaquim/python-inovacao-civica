{
  "nbformat": 4,
  "nbformat_minor": 0,
  "metadata": {
    "colab": {
      "name": "M0-desafio.ipynb",
      "provenance": [],
      "include_colab_link": true
    },
    "kernelspec": {
      "name": "python3",
      "display_name": "Python 3"
    },
    "language_info": {
      "name": "python"
    }
  },
  "cells": [
    {
      "cell_type": "markdown",
      "metadata": {
        "id": "view-in-github",
        "colab_type": "text"
      },
      "source": [
        "<a href=\"https://colab.research.google.com/github/thyagojoaquim/python-inovacao-civica/blob/edicao-3/semana_0/desafio.ipynb\" target=\"_parent\"><img src=\"https://colab.research.google.com/assets/colab-badge.svg\" alt=\"Open In Colab\"/></a>"
      ]
    },
    {
      "cell_type": "markdown",
      "metadata": {
        "id": "9aUTR9hD9QuN"
      },
      "source": [
        "# 1. Apresentação:"
      ]
    },
    {
      "cell_type": "markdown",
      "metadata": {
        "id": "tPluP35E8VQo"
      },
      "source": [
        "O desafio deste módulo envolve ajudar a criar um programa em Python que soma três números. Uma pessoa fez parte do código, mas ele precisa ser finalizado. Existem partes do código faltando e correções precisam ser realizadas, pois o código contém 3 erros. **Você deve alterar o código neste notebook.**\n",
        "\n",
        "\n",
        "\n",
        "\n",
        "\n"
      ]
    },
    {
      "cell_type": "markdown",
      "metadata": {
        "id": "t-BkgXHeYW3x"
      },
      "source": [
        "# 2. Dicas"
      ]
    },
    {
      "cell_type": "markdown",
      "metadata": {
        "id": "m0J6ZTlWQt9p"
      },
      "source": [
        "*   Antes de ir pro código, leia a descrição do desafio e busque definir pequenos passos para chegar a solução.  \n",
        "*   Leia o código para se familiarizar com a solução que está em desenvolvimento;\n",
        "\n",
        "*  Tente entender o que o código faz ou significa.\n",
        "\n",
        "*  Busque encontrar as partes que faltam ser colocadas e erros no código que precisam ser corrigidos;\n",
        "\n",
        "*  Se aparecer erros, procure corrigir e/ou repita os passos acima.\n"
      ]
    },
    {
      "cell_type": "markdown",
      "metadata": {
        "id": "KxyVKC7wYbv-"
      },
      "source": [
        "# 3. Descrição do desafio"
      ]
    },
    {
      "cell_type": "markdown",
      "metadata": {
        "id": "78VQdbBeXgVN"
      },
      "source": [
        "Faça um programa que Calcule a **soma** de **três números inteiros**. O programa deve exibir na tela uma mensagem como a indicada abaixo de exemplo:\n",
        "\n",
        "OBS: os valores 15, 10, 30 representam números de exemplo. Seu programa deve funcionar para quaisquer outros valores.\n",
        "\n",
        "\n",
        "```\n",
        "    Entrada: 15, 10, 30\n",
        "    Processamento: 15 + 10 + 30\n",
        "    Saída: 55\n",
        "```\n",
        "    \n",
        "\n",
        "\n",
        "\n"
      ]
    },
    {
      "cell_type": "markdown",
      "metadata": {
        "id": "OGYH7v5VTc4A"
      },
      "source": [
        "# 4. Desafio\n",
        "\n",
        "Complete e ajuste o código abaixo para solucionar o desafio."
      ]
    },
    {
      "cell_type": "code",
      "metadata": {
        "id": "bJh04OEnPb_2",
        "outputId": "4bdb0395-8f2f-4f45-b701-4b3d989934b1",
        "colab": {
          "base_uri": "https://localhost:8080/"
        }
      },
      "source": [
        "num1 = int(input('Digite o 1º número: '))\n",
        "num2 = int(input('Digite o 2º número: '))\n",
        "num3 = int(input('Digite o 3º número: '))\n",
        "\n",
        "soma = num1 + num2 + num3\n",
        "\n",
        "print(f'Entrada: {num1}, {num2}, {num3}')\n",
        "print(f'Processamento: {num1} + {num2} + {num3}')\n",
        "print(f'Saída: {soma}')"
      ],
      "execution_count": 4,
      "outputs": [
        {
          "output_type": "stream",
          "name": "stdout",
          "text": [
            "Digite o 1º número: 1\n",
            "Digite o 2º número: 2\n",
            "Digite o 3º número: 3\n",
            "Entrada: 1, 2, 3\n",
            "Processamento: 1 + 2 + 3\n",
            "Saída: 6\n"
          ]
        }
      ]
    }
  ]
}