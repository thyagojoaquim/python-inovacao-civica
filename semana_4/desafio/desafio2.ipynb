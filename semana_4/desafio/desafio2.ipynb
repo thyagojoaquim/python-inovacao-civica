{
 "cells": [
  {
   "cell_type": "markdown",
   "id": "3fa47b5e",
   "metadata": {
    "id": "3fa47b5e"
   },
   "source": [
    "Escolha a página do wikipédia relacionada a lista de parlamentares do seu estado e extraia as tabelas existentes na página."
   ]
  },
  {
   "cell_type": "code",
   "execution_count": null,
   "id": "54290dad",
   "metadata": {
    "id": "54290dad"
   },
   "outputs": [],
   "source": []
  },
  {
   "cell_type": "markdown",
   "id": "db63e93d",
   "metadata": {
    "id": "db63e93d"
   },
   "source": [
    "### Quantas tabelas existem na página?"
   ]
  },
  {
   "cell_type": "code",
   "execution_count": null,
   "id": "74363a0c",
   "metadata": {
    "id": "74363a0c"
   },
   "outputs": [],
   "source": []
  },
  {
   "cell_type": "markdown",
   "id": "79e2ce18",
   "metadata": {
    "id": "79e2ce18"
   },
   "source": [
    "### Qual o total de senadores?"
   ]
  },
  {
   "cell_type": "code",
   "execution_count": null,
   "id": "dcec24d2",
   "metadata": {
    "id": "dcec24d2"
   },
   "outputs": [],
   "source": []
  },
  {
   "cell_type": "markdown",
   "id": "dd782b0e",
   "metadata": {
    "id": "dd782b0e"
   },
   "source": [
    "### Qual o total de deputados federais?"
   ]
  },
  {
   "cell_type": "code",
   "execution_count": null,
   "id": "e2d5f589",
   "metadata": {
    "id": "e2d5f589"
   },
   "outputs": [],
   "source": []
  },
  {
   "cell_type": "markdown",
   "id": "e46e7b1a",
   "metadata": {
    "id": "e46e7b1a"
   },
   "source": [
    "### Qual o total de deputados e senadores por cidade?\n",
    "\n",
    "dica: `groupby`"
   ]
  },
  {
   "cell_type": "code",
   "execution_count": null,
   "id": "adb82dcf",
   "metadata": {
    "id": "adb82dcf"
   },
   "outputs": [],
   "source": []
  },
  {
   "cell_type": "markdown",
   "id": "149673f0",
   "metadata": {
    "id": "149673f0"
   },
   "source": [
    "### Qual deputado/senador com mais mandatos?"
   ]
  },
  {
   "cell_type": "code",
   "execution_count": null,
   "id": "0be894db",
   "metadata": {
    "id": "0be894db"
   },
   "outputs": [],
   "source": []
  },
  {
   "cell_type": "markdown",
   "id": "fdeba3c0",
   "metadata": {
    "id": "fdeba3c0"
   },
   "source": [
    "### Desafio extra\n",
    "\n",
    "Esse desafio traz uma ideia extra de cruzamento de dados. Fique a vontade para tentar encontrar essas respostas :)\n",
    "\n",
    "- E se você cruzasse esses dados com os dados da CEAP? Quanto o deputado com maior número de candidaturas gastou?"
   ]
  }
 ],
 "metadata": {
  "colab": {
   "name": "desafio2.ipynb",
   "provenance": []
  },
  "kernelspec": {
   "display_name": "Python 3 (ipykernel)",
   "language": "python",
   "name": "python3"
  },
  "language_info": {
   "codemirror_mode": {
    "name": "ipython",
    "version": 3
   },
   "file_extension": ".py",
   "mimetype": "text/x-python",
   "name": "python",
   "nbconvert_exporter": "python",
   "pygments_lexer": "ipython3",
   "version": "3.9.16"
  }
 },
 "nbformat": 4,
 "nbformat_minor": 5
}
